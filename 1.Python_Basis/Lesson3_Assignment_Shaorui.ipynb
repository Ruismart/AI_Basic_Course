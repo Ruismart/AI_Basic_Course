{
 "cells": [
  {
   "cell_type": "code",
   "execution_count": 10,
   "metadata": {},
   "outputs": [
    {
     "name": "stdout",
     "output_type": "stream",
     "text": [
      "张一 到！\n",
      "张二 到！\n"
     ]
    }
   ],
   "source": [
    "# continue 的用法\n",
    "class_1 = ['张一','张二','张三','张四','张五']\n",
    "\n",
    "for idx,name in enumerate(class_1):\n",
    "    if idx + 1 == 3:\n",
    "        break\n",
    "    print(name,'到！')\n"
   ]
  },
  {
   "cell_type": "code",
   "execution_count": 11,
   "metadata": {},
   "outputs": [
    {
     "name": "stdout",
     "output_type": "stream",
     "text": [
      "张一 到！\n",
      "张二 到！\n",
      "张四 到！\n",
      "张五 到！\n"
     ]
    }
   ],
   "source": [
    "# break 遇到满足条件的项，直接跳出循环，后面都不再运行\n",
    "# continue 只有满足条件的这一项不执行，循环继续\n",
    "for idx,name in enumerate(class_1):\n",
    "    if idx + 1 == 3:\n",
    "        continue\n",
    "    print(name,'到！')"
   ]
  },
  {
   "cell_type": "code",
   "execution_count": 12,
   "metadata": {},
   "outputs": [
    {
     "name": "stdout",
     "output_type": "stream",
     "text": [
      "张一 到！\n",
      "张二 到！\n",
      "张四 到！\n",
      "张五 到！\n"
     ]
    }
   ],
   "source": [
    "# 等同于\n",
    "for idx,name in enumerate(class_1):\n",
    "    if idx + 1 != 3:\n",
    "        print(name,'到！')"
   ]
  },
  {
   "cell_type": "markdown",
   "metadata": {},
   "source": [
    "## 1. 实现`print`函数\n",
    "定义一个函数`print_string`，返回一个字符串。  \n",
    "`print_string`函数支持输入多个参数，每个参数间使用参数`sep`(默认一个空格)的字符进行连接，并且最后还要添加一个`end`(默认一个换行)参数的字符。  \n",
    "比如\n",
    "- `print_string('This is a test')` 返回`This is a test\\n`  \n",
    "- `print_string('This', 'is', 'a', 'test')` 返回`This is a test\\n`\n",
    "- `print_string('This', 'is', 'a', 'test', sep = '-')` 返回`This-is-a-test\\n`\n",
    "- `print_string('This', 'is', 'a', 'test', ',', 'Yes', sep = '_', end = '.')` 返回`This_is_a_test_,_Yes.`"
   ]
  },
  {
   "cell_type": "code",
   "execution_count": 13,
   "metadata": {},
   "outputs": [
    {
     "name": "stdout",
     "output_type": "stream",
     "text": [
      "This is a test\n",
      "\n",
      "This is a test \n",
      "\n",
      "This-is-a-test-\n",
      "\n",
      "This_is_a_test_,_Yes_.\n"
     ]
    }
   ],
   "source": [
    "# \n",
    "def print_string(*values,sep=' ',end='\\n'):\n",
    "    if len(values)==1:\n",
    "        print(str(values[0])+end)\n",
    "    else:\n",
    "        new=str()\n",
    "        for value in values:\n",
    "            new +=  str(value) + sep\n",
    "        print(new + end)\n",
    "        \n",
    "print_string('This is a test')\n",
    "print_string('This', 'is', 'a', 'test')\n",
    "print_string('This', 'is', 'a', 'test', sep = '-')\n",
    "print_string('This', 'is', 'a', 'test', ',', 'Yes', sep = '_', end = '.')    \n",
    "    "
   ]
  },
  {
   "cell_type": "markdown",
   "metadata": {},
   "source": [
    "## 2. 打印斐波那契数列\n",
    "以三种方式打印波那契数列    \n",
    "给定一个数值n，将前n项的波那契数列打印出来"
   ]
  },
  {
   "cell_type": "code",
   "execution_count": 14,
   "metadata": {},
   "outputs": [
    {
     "name": "stdout",
     "output_type": "stream",
     "text": [
      "1\n",
      "1 1\n",
      "1 1 2\n",
      "1 1 2 3\n",
      "1 1 2 3 5\n",
      "1 1 2 3 5 8\n",
      "1 1 2 3 5 8 13\n",
      "1 1 2 3 5 8 13 21\n",
      "1 1 2 3 5 8 13 21 34\n"
     ]
    }
   ],
   "source": [
    "# 打印斐波那契数列 Fibonacci Number 的前n项\n",
    "def fibo1(n):\n",
    "    if n==1:\n",
    "        print(1)\n",
    "    elif n==2:\n",
    "        print(1,1)\n",
    "    else:\n",
    "        ret = [1,1]\n",
    "        for i in range(n):\n",
    "            if i >=2:\n",
    "                ret.append(int(ret[i-2])+int(ret[i-1]))\n",
    "        print(*ret)\n",
    "\n",
    "# test\n",
    "for n in range(1,10):\n",
    "    fibo1(n)"
   ]
  },
  {
   "cell_type": "code",
   "execution_count": 15,
   "metadata": {},
   "outputs": [
    {
     "name": "stdout",
     "output_type": "stream",
     "text": [
      "1\n",
      "1 1\n",
      "1 1 2\n",
      "1 1 2 3\n",
      "1 1 2 3 5\n",
      "1 1 2 3 5 8\n",
      "1 1 2 3 5 8 13\n",
      "1 1 2 3 5 8 13 21\n",
      "1 1 2 3 5 8 13 21 34\n"
     ]
    }
   ],
   "source": [
    "def fibo2(n):\n",
    "    ret = [0,1]\n",
    "    while len(ret) <= n :\n",
    "        ret.append(ret[-1]+ret[-2])\n",
    "    print(*ret[1:])    \n",
    "\n",
    "# test\n",
    "for n in range(1,10):\n",
    "    fibo2(n)"
   ]
  },
  {
   "cell_type": "code",
   "execution_count": 16,
   "metadata": {},
   "outputs": [
    {
     "name": "stdout",
     "output_type": "stream",
     "text": [
      "1\n",
      "1 1\n",
      "1 1 2\n",
      "1 1 2 3\n",
      "1 1 2 3 5\n",
      "1 1 2 3 5 8\n",
      "1 1 2 3 5 8 13\n",
      "1 1 2 3 5 8 13 21\n",
      "1 1 2 3 5 8 13 21 34\n"
     ]
    }
   ],
   "source": [
    "def fibo3(n):\n",
    "    def fi(m):\n",
    "        if m==1 or m==2:\n",
    "            return 1\n",
    "        else:\n",
    "            return fi(m-2) + fi(m-1)\n",
    "    print(*[fi(m) for m in range(1,n+1)])\n",
    "\n",
    "# test\n",
    "for n in range(1,10):\n",
    "    fibo3(n)"
   ]
  },
  {
   "cell_type": "code",
   "execution_count": null,
   "metadata": {},
   "outputs": [],
   "source": []
  }
 ],
 "metadata": {
  "kernelspec": {
   "display_name": "Python 3",
   "language": "python",
   "name": "python3"
  },
  "language_info": {
   "codemirror_mode": {
    "name": "ipython",
    "version": 3
   },
   "file_extension": ".py",
   "mimetype": "text/x-python",
   "name": "python",
   "nbconvert_exporter": "python",
   "pygments_lexer": "ipython3",
   "version": "3.6.5"
  }
 },
 "nbformat": 4,
 "nbformat_minor": 4
}
