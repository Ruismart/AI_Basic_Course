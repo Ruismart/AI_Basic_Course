{
 "cells": [
  {
   "cell_type": "code",
   "execution_count": 28,
   "metadata": {},
   "outputs": [],
   "source": [
    "# 设置jupyter notebook 的一个代码块可以有多个输出（默认只输出最后一个值）\n",
    "from IPython.core.interactiveshell import InteractiveShell\n",
    "InteractiveShell.ast_node_interactivity = \"all\""
   ]
  },
  {
   "cell_type": "code",
   "execution_count": 29,
   "metadata": {},
   "outputs": [
    {
     "name": "stdout",
     "output_type": "stream",
     "text": [
      "张一 到！\n",
      "张二 到！\n"
     ]
    }
   ],
   "source": [
    "# 课堂作业\n",
    "# continue 的用法\n",
    "class_1 = ['张一','张二','张三','张四','张五']\n",
    "\n",
    "for idx,name in enumerate(class_1):   # idx 遍历列表class_1的index，name 遍历列表的元素\n",
    "    if idx + 1 == 3:   # 到第三个index时 终止打印\n",
    "        break\n",
    "    print(name,'到！')\n"
   ]
  },
  {
   "cell_type": "code",
   "execution_count": 30,
   "metadata": {
    "scrolled": true
   },
   "outputs": [
    {
     "name": "stdout",
     "output_type": "stream",
     "text": [
      "张一 到！\n",
      "张二 到！\n",
      "张四 到！\n",
      "张五 到！\n"
     ]
    }
   ],
   "source": [
    "# break 遇到满足条件的项，直接跳出循环，后面都不再运行\n",
    "# continue 只有满足条件的这一项不执行，循环继续\n",
    "for idx,name in enumerate(class_1):   # idx 遍历列表的index，name 遍历列表的元素\n",
    "    if idx + 1 == 3:   # 到第三个index时 不打印，后面继续\n",
    "        continue\n",
    "    print(name,'到！')"
   ]
  },
  {
   "cell_type": "code",
   "execution_count": 12,
   "metadata": {},
   "outputs": [
    {
     "name": "stdout",
     "output_type": "stream",
     "text": [
      "张一 到！\n",
      "张二 到！\n",
      "张四 到！\n",
      "张五 到！\n"
     ]
    }
   ],
   "source": [
    "# 等同于\n",
    "for idx,name in enumerate(class_1):   # idx 遍历列表的index，name 遍历列表的元素\n",
    "    if idx + 1 != 3:   # 除了第三个index 其他的都执行打印      \n",
    "        print(name,'到！')"
   ]
  },
  {
   "cell_type": "markdown",
   "metadata": {},
   "source": [
    "## 1. 实现`print`函数\n",
    "定义一个函数`print_string`，返回一个字符串。  \n",
    "`print_string`函数支持输入多个参数，每个参数间使用参数`sep`(默认一个空格)的字符进行连接，并且最后还要添加一个`end`(默认一个换行)参数的字符。  \n",
    "比如\n",
    "- `print_string('This is a test')` 返回`This is a test\\n`  \n",
    "- `print_string('This', 'is', 'a', 'test')` 返回`This is a test\\n`\n",
    "- `print_string('This', 'is', 'a', 'test', sep = '-')` 返回`This-is-a-test\\n`\n",
    "- `print_string('This', 'is', 'a', 'test', ',', 'Yes', sep = '_', end = '.')` 返回`This_is_a_test_,_Yes.`"
   ]
  },
  {
   "cell_type": "code",
   "execution_count": 84,
   "metadata": {},
   "outputs": [
    {
     "data": {
      "text/plain": [
       "'This is a test\\n'"
      ]
     },
     "execution_count": 84,
     "metadata": {},
     "output_type": "execute_result"
    },
    {
     "data": {
      "text/plain": [
       "'This is a test\\n'"
      ]
     },
     "execution_count": 84,
     "metadata": {},
     "output_type": "execute_result"
    },
    {
     "data": {
      "text/plain": [
       "'This-is-a-test\\n'"
      ]
     },
     "execution_count": 84,
     "metadata": {},
     "output_type": "execute_result"
    },
    {
     "data": {
      "text/plain": [
       "'This_is_a_test_,_Yes.'"
      ]
     },
     "execution_count": 84,
     "metadata": {},
     "output_type": "execute_result"
    }
   ],
   "source": [
    "# 不要使用 print (用return)\n",
    "def print_string(*values,sep=' ',end='\\n'):\n",
    "    if len(values)==1:              # values 是一个值的时候，直接返回 字符+end\n",
    "        return(str(values[0])+end)\n",
    "    else:                           # values 是多个值时\n",
    "        new=list()                  # 新建一个列表，在每个值后面插入一个分隔符\n",
    "        for value in values:       \n",
    "            new.append(value)\n",
    "            new.append(sep)\n",
    "        out=str()\n",
    "        for n in new[0:-1]:         # [0:-1] 打印的结果要排除最后一个字符后面的分隔符 (不取idx=-1)\n",
    "            out+=n\n",
    "        out+=end\n",
    "        \n",
    "        return(out)\n",
    "\n",
    "# test  ,因为前面作了设置，一个代码块可以输出多个测试结果\n",
    "print_string('This is a test')\n",
    "print_string('This', 'is', 'a', 'test')\n",
    "print_string('This', 'is', 'a', 'test', sep = '-')\n",
    "print_string('This', 'is', 'a', 'test', ',', 'Yes', sep = '_', end = '.') "
   ]
  },
  {
   "cell_type": "code",
   "execution_count": 85,
   "metadata": {},
   "outputs": [
    {
     "data": {
      "text/plain": [
       "'This is a test\\n'"
      ]
     },
     "execution_count": 85,
     "metadata": {},
     "output_type": "execute_result"
    },
    {
     "data": {
      "text/plain": [
       "'This is a test\\n'"
      ]
     },
     "execution_count": 85,
     "metadata": {},
     "output_type": "execute_result"
    },
    {
     "data": {
      "text/plain": [
       "'This-is-a-test\\n'"
      ]
     },
     "execution_count": 85,
     "metadata": {},
     "output_type": "execute_result"
    },
    {
     "data": {
      "text/plain": [
       "'This_is_a_test_,_Yes.'"
      ]
     },
     "execution_count": 85,
     "metadata": {},
     "output_type": "execute_result"
    }
   ],
   "source": [
    "# 简化代码版\n",
    "def print_string(*values,sep=' ',end='\\n'):\n",
    "    out=str()\n",
    "    for value in values:\n",
    "        out= out + value + sep\n",
    "    out=out[0:-1]+end               # 没有必要再新建一个列表，新建的字符串可以直接排除最后加进来的分隔符\n",
    "    return(out)\n",
    "    \n",
    "# test\n",
    "print_string('This is a test')\n",
    "print_string('This', 'is', 'a', 'test')\n",
    "print_string('This', 'is', 'a', 'test', sep = '-')\n",
    "print_string('This', 'is', 'a', 'test', ',', 'Yes', sep = '_', end = '.') "
   ]
  },
  {
   "cell_type": "markdown",
   "metadata": {},
   "source": [
    "## 2. 打印斐波那契数列\n",
    "以三种方式打印波那契数列    \n",
    "给定一个数值n，将前n项的波那契数列打印出来"
   ]
  },
  {
   "cell_type": "code",
   "execution_count": 66,
   "metadata": {},
   "outputs": [
    {
     "name": "stdout",
     "output_type": "stream",
     "text": [
      "1\n",
      "1 1\n",
      "1 1 2\n",
      "1 1 2 3\n",
      "1 1 2 3 5\n",
      "1 1 2 3 5 8\n",
      "1 1 2 3 5 8 13\n",
      "1 1 2 3 5 8 13 21\n",
      "1 1 2 3 5 8 13 21 34\n"
     ]
    }
   ],
   "source": [
    "# 打印斐波那契数列 Fibonacci Number 的前n项\n",
    "def fibo1(n):\n",
    "    if n==1:         # 分成三种情况，n=1, 数列只有 1\n",
    "        print(1)\n",
    "    elif n==2:        # n=2，数列是 1 1\n",
    "        print(1,1)\n",
    "    else:\n",
    "        ret = [1,1]\n",
    "        for i in range(2,n):   # n >=3 (idx是 i>=2) 时，数列中下一个数等于前两个数之和\n",
    "            ret.append(int(ret[i-2])+int(ret[i-1]))\n",
    "        print(*ret)\n",
    "\n",
    "# test\n",
    "for n in range(1,10):   # 测试 n取 1到10 的斐波那契数列\n",
    "    fibo1(n)"
   ]
  },
  {
   "cell_type": "code",
   "execution_count": 69,
   "metadata": {},
   "outputs": [
    {
     "name": "stdout",
     "output_type": "stream",
     "text": [
      "1\n",
      "1 1\n",
      "1 1 2\n",
      "1 1 2 3\n",
      "1 1 2 3 5\n",
      "1 1 2 3 5 8\n",
      "1 1 2 3 5 8 13\n",
      "1 1 2 3 5 8 13 21\n",
      "1 1 2 3 5 8 13 21 34\n"
     ]
    }
   ],
   "source": [
    "def fibo2(n):\n",
    "    ret = [0,1]          # 初始化序列列表，前面额外加一个0，是为了让下一个数满足 1=0+1\n",
    "    while len(ret) <= n :   # 只要 列表ret 的元素个数不超过 n，添加一个元素，新的元素等于最后两个元素之和\n",
    "        ret.append(ret[-1]+ret[-2])\n",
    "    print(*ret[1:])    # 最后打印时要排除第一个0\n",
    "\n",
    "# test\n",
    "for n in range(1,10):   # 测试 n取 1到10 的斐波那契数列\n",
    "    fibo2(n)"
   ]
  },
  {
   "cell_type": "code",
   "execution_count": 16,
   "metadata": {},
   "outputs": [
    {
     "name": "stdout",
     "output_type": "stream",
     "text": [
      "1\n",
      "1 1\n",
      "1 1 2\n",
      "1 1 2 3\n",
      "1 1 2 3 5\n",
      "1 1 2 3 5 8\n",
      "1 1 2 3 5 8 13\n",
      "1 1 2 3 5 8 13 21\n",
      "1 1 2 3 5 8 13 21 34\n"
     ]
    }
   ],
   "source": [
    "def fibo3(n):\n",
    "    def fi(m):           # 定义一个函数计算斐波那契数列的第m个数是什么\n",
    "        if m==1 or m==2:\n",
    "            return 1\n",
    "        else:\n",
    "            return fi(m-2) + fi(m-1)\n",
    "    print(*[fi(m) for m in range(1,n+1)]) # 根据定义的fi(m)函数打印对应m=1,...,n的数列，引入了列表解析的方法使代码更简洁\n",
    "\n",
    "# test\n",
    "for n in range(1,10):   # 测试 n取 1到10 的斐波那契数列\n",
    "    fibo3(n)"
   ]
  },
  {
   "cell_type": "code",
   "execution_count": null,
   "metadata": {},
   "outputs": [],
   "source": []
  }
 ],
 "metadata": {
  "kernelspec": {
   "display_name": "Python 3",
   "language": "python",
   "name": "python3"
  },
  "language_info": {
   "codemirror_mode": {
    "name": "ipython",
    "version": 3
   },
   "file_extension": ".py",
   "mimetype": "text/x-python",
   "name": "python",
   "nbconvert_exporter": "python",
   "pygments_lexer": "ipython3",
   "version": "3.6.5"
  }
 },
 "nbformat": 4,
 "nbformat_minor": 4
}
