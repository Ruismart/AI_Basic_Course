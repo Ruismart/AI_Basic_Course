{
 "cells": [
  {
   "cell_type": "markdown",
   "metadata": {},
   "source": [
    "# 本次作业要求"
   ]
  },
  {
   "cell_type": "markdown",
   "metadata": {},
   "source": [
    "## 作业形式"
   ]
  },
  {
   "cell_type": "markdown",
   "metadata": {},
   "source": [
    "复现课程代码  \n",
    "完成课后作业"
   ]
  },
  {
   "cell_type": "markdown",
   "metadata": {},
   "source": [
    "## 作业提交方式"
   ]
  },
  {
   "cell_type": "markdown",
   "metadata": {},
   "source": [
    "完成填写此`jupyter`文件，提交至自己的github(**请务必把GitHub按照班主任要求录入在Tremllo中**)"
   ]
  },
  {
   "cell_type": "markdown",
   "metadata": {},
   "source": [
    "## 作业截止时间"
   ]
  },
  {
   "cell_type": "markdown",
   "metadata": {},
   "source": [
    "每次课程作业都会在下次课程进行讲解，请在一周内尽快提交。  \n",
    "此次作业截止时间为:   2019年11月1日  \n",
    "此次作业批改截止时间：2019年11月8日"
   ]
  },
  {
   "cell_type": "markdown",
   "metadata": {},
   "source": [
    "# 完成以下问答和编程练习"
   ]
  },
  {
   "cell_type": "markdown",
   "metadata": {},
   "source": [
    "**理论部分**\n",
    "1. python中可以使用`import`导入哪些对象？  \n",
    "\n",
    ">答：  \n",
    "    可以导入包（package）和模块（module）    \n",
    "    · import &lt;package&gt;  \n",
    "    · import &lt;module&gt;  \n",
    "    还可以只导入某个包/模块里面的子模块/子对象（变量或函数）  \n",
    "    · from &lt;package> import &lt;module or subpackage or object&gt;   \n",
    "    · from &lt;module> import &lt;object&gt;    \n",
    "\n",
    "2. 机器学习和函数/模块的思想有哪些异同？  \n",
    "\n",
    ">答：  \n",
    "    函数/模块的思想在于对某一个想法的实现或对某一个功能的复现，首先需要有一套清晰的逻辑性框架，再去写代码一步一步地达到这个目的  \n",
    "    对于问题是什么，解决过程是怎么样的，程序员都需要了然于胸，做出来之后别人也能够把它搞懂  \n",
    "    而对于机器学习来讲，同样是为了解决某个问题 y=f(x)，其中由因到果的逻辑细节是不清晰的  \n",
    "    机器通过自己去学习已有数据y0 x0的特征，得到这个解决问题的逻辑 f()，再用于yn=f(xn),但这个f()是不能给别人解释清楚的\n",
    "    "
   ]
  },
  {
   "cell_type": "markdown",
   "metadata": {},
   "source": [
    "**编程实践部分**"
   ]
  },
  {
   "cell_type": "markdown",
   "metadata": {},
   "source": [
    "1. 安装 `numpy`, `matplotlib`,`sklearn`包, 并测试是否安装完成  \n",
    "如果遇到错误，请阅读错误并尝试自己解决  \n",
    "执行以下代码不报错\n",
    "``` python\n",
    "import numpy as np\n",
    "import matplotlib \n",
    "import sklearn\n",
    "```"
   ]
  },
  {
   "cell_type": "code",
   "execution_count": 44,
   "metadata": {},
   "outputs": [],
   "source": [
    "import numpy as np\n",
    "import matplotlib\n",
    "import sklearn"
   ]
  },
  {
   "cell_type": "markdown",
   "metadata": {},
   "source": [
    "2. 打乱数据集  \n",
    "同时打乱 x,y，保证数据和标签的对应关系\n",
    "``` python\n",
    "x = ['快递太慢了！','不好吃','特别难吃','要齁死我了','很划算','下次还来','味道很不错！','香']\n",
    "y = ['差评','差评','差评','差评','好评','好评','好评','好评']\n",
    "```"
   ]
  },
  {
   "cell_type": "code",
   "execution_count": 50,
   "metadata": {},
   "outputs": [
    {
     "name": "stdout",
     "output_type": "stream",
     "text": [
      "快递太慢了！ : 差评\n",
      "不好吃 : 差评\n",
      "特别难吃 : 差评\n",
      "要齁死我了 : 差评\n",
      "很划算 : 好评\n",
      "下次还来 : 好评\n",
      "味道很不错！ : 好评\n",
      "香 : 好评\n"
     ]
    }
   ],
   "source": [
    "# import required package\n",
    "import random \n",
    "\n",
    "x = ['快递太慢了！','不好吃','特别难吃','要齁死我了','很划算','下次还来','味道很不错！','香']\n",
    "y = ['差评','差评','差评','差评','好评','好评','好评','好评']\n",
    "\n",
    "def shuffle(x,y):\n",
    "    idx = [i for i in range(len(x))]  # get index of x\n",
    "    random.shuffle(idx)           #  randomly reorder the index （actually not that random，the first time would get a same result）\n",
    "    x = [x[id] for id in idx ]       # reorder x and y with the same new index\n",
    "    y = [y[id] for id in idx ]       \n",
    "    return x,y\n",
    "\n",
    "# print result for certify\n",
    "for i,j in zip(x,y):\n",
    "    print(i,':',j)"
   ]
  },
  {
   "cell_type": "markdown",
   "metadata": {},
   "source": [
    "3. 单词统计  \n",
    "使用函数，统计每个单词的出现次数，返回字典(查阅资料导入已完成此功能的包)\n",
    "``` python\n",
    "text = '2019 年 十月 一日 上午 ， 庆祝 中华人民共和国 成立 70 周年 阅兵式 在 首都北京 盛大举行 ， 59 个 阅兵 方阵 ， 580 台受 阅 装备 ， 1.5 万人 的 参阅 队伍 接受 了 全国 人民 的 检阅 。 阅兵 装备 方队 展示 的 武器装备 皆 为 国产 现役 主战 装备 ， 40% 为 首次 展示 。 其中 近些年来 广受 全球 关注 的 东风 41 洲际 弹道导弹 ， 巨浪 二潜射 弹道导弹 ， 东风 17 高超音速 武器 系统 终于 揭幕 亮剑 ， 以 \" 不怒 自威 \" 的 形象 向 世界 展示 中国 捍卫 和平 的 意志 与 力量 。 相较 于 其他 首度 公开 亮相 的 武器装备 ， 这 三款 武器 多年 来 传闻 不断 ， 备受 关注 ， 并 因 其 \" 大国 基石 \" 的 地位 而 被 公众 赋予 特殊 的 期待 ， 这 三款 武器装备 实力 究竟 如何 ， 又 各自 承担 着 怎样 的 历史 \" 使命 \" 呢 ？ 本报 特约 相关 领域 军事 专家 ， 为 大家 详细 解读 这 三款 彰显 国威 ， 震撼 世界 的 国 之 重器 。'\n",
    "```"
   ]
  },
  {
   "cell_type": "code",
   "execution_count": 60,
   "metadata": {},
   "outputs": [
    {
     "name": "stdout",
     "output_type": "stream",
     "text": [
      "{'2019': 1, '年': 1, '十月': 1, '一日': 1, '上午': 1, '，': 15, '庆祝': 1, '中华人民共和国': 1, '成立': 1, '70': 1, '周年': 1, '阅兵式': 1, '在': 1, '首都北京': 1, '盛大举行': 1, '59': 1, '个': 1, '阅兵': 2, '方阵': 1, '580': 1, '台受': 1, '阅': 1, '装备': 3, '1.5': 1, '万人': 1, '的': 11, '参阅': 1, '队伍': 1, '接受': 1, '了': 1, '全国': 1, '人民': 1, '检阅': 1, '。': 4, '方队': 1, '展示': 3, '武器装备': 3, '皆': 1, '为': 3, '国产': 1, '现役': 1, '主战': 1, '40%': 1, '首次': 1, '其中': 1, '近些年来': 1, '广受': 1, '全球': 1, '关注': 2, '东风': 2, '41': 1, '洲际': 1, '弹道导弹': 2, '巨浪': 1, '二潜射': 1, '17': 1, '高超音速': 1, '武器': 2, '系统': 1, '终于': 1, '揭幕': 1, '亮剑': 1, '以': 1, '\"': 6, '不怒': 1, '自威': 1, '形象': 1, '向': 1, '世界': 2, '中国': 1, '捍卫': 1, '和平': 1, '意志': 1, '与': 1, '力量': 1, '相较': 1, '于': 1, '其他': 1, '首度': 1, '公开': 1, '亮相': 1, '这': 3, '三款': 3, '多年': 1, '来': 1, '传闻': 1, '不断': 1, '备受': 1, '并': 1, '因': 1, '其': 1, '大国': 1, '基石': 1, '地位': 1, '而': 1, '被': 1, '公众': 1, '赋予': 1, '特殊': 1, '期待': 1, '实力': 1, '究竟': 1, '如何': 1, '又': 1, '各自': 1, '承担': 1, '着': 1, '怎样': 1, '历史': 1, '使命': 1, '呢': 1, '？': 1, '本报': 1, '特约': 1, '相关': 1, '领域': 1, '军事': 1, '专家': 1, '大家': 1, '详细': 1, '解读': 1, '彰显': 1, '国威': 1, '震撼': 1, '国': 1, '之': 1, '重器': 1}\n"
     ]
    }
   ],
   "source": [
    "# import required package, here just import function Counter from package collections\n",
    "from collections import Counter\n",
    "\n",
    "def count_words(text):\n",
    "    text=text.split(\" \")  # first split the text with a blank separator\n",
    "    cnt=Counter(text)  # count each unique str in text\n",
    "        \n",
    "    return dict(cnt)  # return dict\n",
    "    \n",
    "# test \n",
    "text = '2019 年 十月 一日 上午 ， 庆祝 中华人民共和国 成立 70 周年 阅兵式 在 首都北京 盛大举行 ， 59 个 阅兵 方阵 ， 580 台受 阅 \\\n",
    "装备 ， 1.5 万人 的 参阅 队伍 接受 了 全国 人民 的 检阅 。 阅兵 装备 方队 展示 的 武器装备 皆 为 国产 现役 主战 装备 ， 40% 为 首次 \\\n",
    "展示 。 其中 近些年来 广受 全球 关注 的 东风 41 洲际 弹道导弹 ， 巨浪 二潜射 弹道导弹 ， 东风 17 高超音速 武器 系统 终于 揭幕 \\\n",
    "亮剑 ， 以 \" 不怒 自威 \" 的 形象 向 世界 展示 中国 捍卫 和平 的 意志 与 力量 。 相较 于 其他 首度 公开 亮相 的 武器装备 ， 这 三款 \\\n",
    "武器 多年 来 传闻 不断 ， 备受 关注 ， 并 因 其 \" 大国 基石 \" 的 地位 而 被 公众 赋予 特殊 的 期待 ， 这 三款 武器装备 实力 究竟 \\\n",
    "如何 ， 又 各自 承担 着 怎样 的 历史 \" 使命 \" 呢 ？ 本报 特约 相关 领域 军事 专家 ， 为 大家 详细 解读 这 三款 彰显 国威 ， 震撼 \\\n",
    "世界 的 国 之 重器 。'\n",
    "print(count_words(text))"
   ]
  },
  {
   "cell_type": "code",
   "execution_count": null,
   "metadata": {},
   "outputs": [],
   "source": []
  }
 ],
 "metadata": {
  "kernelspec": {
   "display_name": "Python 3",
   "language": "python",
   "name": "python3"
  },
  "language_info": {
   "codemirror_mode": {
    "name": "ipython",
    "version": 3
   },
   "file_extension": ".py",
   "mimetype": "text/x-python",
   "name": "python",
   "nbconvert_exporter": "python",
   "pygments_lexer": "ipython3",
   "version": "3.6.5"
  }
 },
 "nbformat": 4,
 "nbformat_minor": 4
}
